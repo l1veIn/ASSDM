{
 "cells": [
  {
   "cell_type": "code",
   "execution_count": 2,
   "metadata": {},
   "outputs": [],
   "source": [
    "import os\n",
    "import torch as t\n",
    "from PIL import Image\n",
    "from torch.utils import data\n",
    "import numpy as np\n",
    "from torchvision import transforms as T"
   ]
  },
  {
   "cell_type": "code",
   "execution_count": 3,
   "metadata": {},
   "outputs": [],
   "source": [
    "transform = T.Compose([\n",
    "    T.Resize(227),\n",
    "    T.CenterCrop(227),\n",
    "    T.ToTensor(),\n",
    "    T.Normalize(mean=[.5,.5,.5],std=[.5,.5,.5])\n",
    "])"
   ]
  },
  {
   "cell_type": "code",
   "execution_count": 6,
   "metadata": {},
   "outputs": [],
   "source": [
    "\n",
    "class UCMdata(data.Dataset):\n",
    "    dictionary = {\n",
    "        'forest': 0,\n",
    "        'buildings': 1,\n",
    "        'river': 2,\n",
    "        'mobilehomepark': 3,\n",
    "        'harbor': 4,\n",
    "        'golfcourse': 5,\n",
    "        'agricultural': 6,\n",
    "        'runway': 7,\n",
    "        'baseballdiamond': 8,\n",
    "        'overpass': 9,\n",
    "        'chaparral': 10,\n",
    "        'tenniscourt': 11,\n",
    "        'intersection': 12,\n",
    "        'airplane': 13,\n",
    "        'parkinglot': 14,\n",
    "        'sparseresidential': 15,\n",
    "        'mediumresidential': 16,\n",
    "        'denseresidential': 17,\n",
    "        'beach': 18,\n",
    "        'freeway': 19,\n",
    "        'storagetanks': 20\n",
    "    }\n",
    "\n",
    "    def getFiles(self, root):\n",
    "        files = os.listdir(root)\n",
    "        for fi in files:\n",
    "            fi_d = os.path.join(root, fi)\n",
    "            if os.path.isdir(fi_d):\n",
    "                self.getFiles(fi_d)\n",
    "            else:\n",
    "                self.imgs.append(fi_d)\n",
    "\n",
    "    def __init__(self, root, transforms=transform, train=True, test=False ,start = 0., end =100.,example=False):\n",
    "        self.train = train\n",
    "        self.test = test\n",
    "        self.imgs = []\n",
    "        if example:\n",
    "            #123\n",
    "            self.imgs.append(root)\n",
    "        else:\n",
    "            self.getFiles(root) \n",
    "            self.imgs = sorted(self.imgs,\n",
    "                               key=lambda x: x.split('.')[-2].split('/')[-1][-2:])\n",
    "        imgs_num = len(self.imgs)   \n",
    "        if not example:\n",
    "            self.imgs = self.imgs[int(start * 0.01 * imgs_num):int(end * 0.01 * imgs_num)]\n",
    "                  \n",
    "        self.transforms = transforms\n",
    "\n",
    "    def __getitem__(self, index):\n",
    "        img_path = self.imgs[index]\n",
    "#         label = t.zeros(21)\n",
    "#         label[self.dictionary[img_path.split('/')[-2]]] = 1.0\n",
    "        label = self.dictionary[img_path.split('/')[-2]]\n",
    "        data = Image.open(img_path)\n",
    "        if self.transforms:\n",
    "            data = self.transforms(data)\n",
    "        return data, label\n",
    "\n",
    "    def __len__(self):\n",
    "        return len(self.imgs)\n"
   ]
  },
  {
   "cell_type": "code",
   "execution_count": 64,
   "metadata": {},
   "outputs": [
    {
     "data": {
      "text/plain": [
       "torch.Tensor"
      ]
     },
     "execution_count": 64,
     "metadata": {},
     "output_type": "execute_result"
    }
   ],
   "source": [
    "newd = UCMdata('images')\n",
    "newd[0][1]\n",
    "type(newd[0][1])"
   ]
  }
 ],
 "metadata": {
  "kernelspec": {
   "display_name": "Python 3",
   "language": "python",
   "name": "python3"
  },
  "language_info": {
   "codemirror_mode": {
    "name": "ipython",
    "version": 3
   },
   "file_extension": ".py",
   "mimetype": "text/x-python",
   "name": "python",
   "nbconvert_exporter": "python",
   "pygments_lexer": "ipython3",
   "version": "3.7.3"
  }
 },
 "nbformat": 4,
 "nbformat_minor": 2
}
