{
 "cells": [
  {
   "cell_type": "code",
   "execution_count": 4,
   "metadata": {},
   "outputs": [],
   "source": [
    "import numpy\n",
    "import lda\n",
    "import lda.datasets"
   ]
  },
  {
   "cell_type": "code",
   "execution_count": 5,
   "metadata": {},
   "outputs": [],
   "source": [
    "X = numpy.array([[1,1], [2, 1], [3, 1], [4, 1], [5, 8], [6, 1]])"
   ]
  },
  {
   "cell_type": "code",
   "execution_count": 6,
   "metadata": {},
   "outputs": [],
   "source": [
    "model = lda.LDA(n_topics=2, random_state=0, n_iter=100)"
   ]
  },
  {
   "cell_type": "code",
   "execution_count": 7,
   "metadata": {},
   "outputs": [
    {
     "name": "stderr",
     "output_type": "stream",
     "text": [
      "INFO:lda:n_documents: 6\n",
      "INFO:lda:vocab_size: 2\n",
      "INFO:lda:n_words: 34\n",
      "INFO:lda:n_topics: 2\n",
      "INFO:lda:n_iter: 100\n",
      "INFO:lda:<0> log likelihood: -69\n",
      "INFO:lda:<10> log likelihood: -35\n",
      "INFO:lda:<20> log likelihood: -36\n",
      "INFO:lda:<30> log likelihood: -36\n",
      "INFO:lda:<40> log likelihood: -33\n",
      "INFO:lda:<50> log likelihood: -39\n",
      "INFO:lda:<60> log likelihood: -33\n",
      "INFO:lda:<70> log likelihood: -43\n",
      "INFO:lda:<80> log likelihood: -42\n",
      "INFO:lda:<90> log likelihood: -37\n",
      "INFO:lda:<99> log likelihood: -38\n"
     ]
    },
    {
     "data": {
      "text/plain": [
       "<lda.lda.LDA at 0x11b4a3390>"
      ]
     },
     "execution_count": 7,
     "metadata": {},
     "output_type": "execute_result"
    }
   ],
   "source": [
    "model.fit(X)"
   ]
  },
  {
   "cell_type": "code",
   "execution_count": 8,
   "metadata": {},
   "outputs": [
    {
     "data": {
      "text/plain": [
       "array([[0.8074558 , 0.1925442 ],\n",
       "       [0.00124688, 0.99875312]])"
      ]
     },
     "execution_count": 8,
     "metadata": {},
     "output_type": "execute_result"
    }
   ],
   "source": [
    "model.components_"
   ]
  },
  {
   "cell_type": "code",
   "execution_count": 9,
   "metadata": {},
   "outputs": [
    {
     "data": {
      "text/plain": [
       "-37.97549202370081"
      ]
     },
     "execution_count": 9,
     "metadata": {},
     "output_type": "execute_result"
    }
   ],
   "source": [
    "model.loglikelihood()"
   ]
  }
 ],
 "metadata": {
  "kernelspec": {
   "display_name": "Python 3",
   "language": "python",
   "name": "python3"
  },
  "language_info": {
   "codemirror_mode": {
    "name": "ipython",
    "version": 3
   },
   "file_extension": ".py",
   "mimetype": "text/x-python",
   "name": "python",
   "nbconvert_exporter": "python",
   "pygments_lexer": "ipython3",
   "version": "3.7.3"
  }
 },
 "nbformat": 4,
 "nbformat_minor": 2
}
