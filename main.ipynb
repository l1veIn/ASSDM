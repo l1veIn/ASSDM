{
 "cells": [
  {
   "cell_type": "code",
   "execution_count": 1,
   "metadata": {},
   "outputs": [],
   "source": [
    "import torch,torchvision\n",
    "import os\n",
    "import time\n",
    "import numpy\n",
    "import torch as t\n",
    "import torch.nn as nn\n",
    "from torchvision import models\n",
    "from tqdm import tqdm_notebook\n",
    "from torchnet import meter\n",
    "from torch.autograd import Variable\n",
    "from torch.utils.data import DataLoader\n",
    "import matplotlib\n",
    "from data.dataset import UCMdata\n",
    "%matplotlib inline\n",
    "# openCv sklearn"
   ]
  },
  {
   "cell_type": "code",
   "execution_count": 2,
   "metadata": {
    "scrolled": true
   },
   "outputs": [],
   "source": [
    "model=models.alexnet(pretrained=True)"
   ]
  },
  {
   "cell_type": "code",
   "execution_count": 3,
   "metadata": {},
   "outputs": [],
   "source": [
    "model.classifier[6]= nn.Linear(in_features=4096, out_features=21)"
   ]
  },
  {
   "cell_type": "code",
   "execution_count": 15,
   "metadata": {},
   "outputs": [
    {
     "data": {
      "text/plain": [
       "AlexNet(\n",
       "  (features): Sequential(\n",
       "    (0): Conv2d(3, 64, kernel_size=(11, 11), stride=(4, 4), padding=(2, 2))\n",
       "    (1): ReLU(inplace)\n",
       "    (2): MaxPool2d(kernel_size=3, stride=2, padding=0, dilation=1, ceil_mode=False)\n",
       "    (3): Conv2d(64, 192, kernel_size=(5, 5), stride=(1, 1), padding=(2, 2))\n",
       "    (4): ReLU(inplace)\n",
       "    (5): MaxPool2d(kernel_size=3, stride=2, padding=0, dilation=1, ceil_mode=False)\n",
       "    (6): Conv2d(192, 384, kernel_size=(3, 3), stride=(1, 1), padding=(1, 1))\n",
       "    (7): ReLU(inplace)\n",
       "    (8): Conv2d(384, 256, kernel_size=(3, 3), stride=(1, 1), padding=(1, 1))\n",
       "    (9): ReLU(inplace)\n",
       "    (10): Conv2d(256, 256, kernel_size=(3, 3), stride=(1, 1), padding=(1, 1))\n",
       "    (11): ReLU(inplace)\n",
       "    (12): MaxPool2d(kernel_size=3, stride=2, padding=0, dilation=1, ceil_mode=False)\n",
       "  )\n",
       "  (avgpool): AdaptiveAvgPool2d(output_size=(6, 6))\n",
       "  (classifier): Sequential(\n",
       "    (0): Dropout(p=0.5)\n",
       "    (1): Linear(in_features=9216, out_features=4096, bias=True)\n",
       "    (2): ReLU(inplace)\n",
       "    (3): Dropout(p=0.5)\n",
       "    (4): Linear(in_features=4096, out_features=4096, bias=True)\n",
       "    (5): ReLU(inplace)\n",
       "    (6): Linear(in_features=4096, out_features=21, bias=True)\n",
       "  )\n",
       ")"
      ]
     },
     "execution_count": 15,
     "metadata": {},
     "output_type": "execute_result"
    }
   ],
   "source": [
    "model"
   ]
  },
  {
   "cell_type": "code",
   "execution_count": 5,
   "metadata": {
    "scrolled": false
   },
   "outputs": [
    {
     "name": "stdout",
     "output_type": "stream",
     "text": [
      "0 features.0.weight requires_grad: False\n",
      "1 features.0.bias requires_grad: False\n",
      "2 features.3.weight requires_grad: False\n",
      "3 features.3.bias requires_grad: False\n",
      "4 features.6.weight requires_grad: False\n",
      "5 features.6.bias requires_grad: False\n",
      "6 features.8.weight requires_grad: False\n",
      "7 features.8.bias requires_grad: False\n",
      "8 features.10.weight requires_grad: False\n",
      "9 features.10.bias requires_grad: False\n",
      "10 classifier.1.weight requires_grad: False\n",
      "11 classifier.1.bias requires_grad: False\n",
      "12 classifier.4.weight requires_grad: False\n",
      "13 classifier.4.bias requires_grad: False\n",
      "14 classifier.6.weight requires_grad: True\n",
      "15 classifier.6.bias requires_grad: True\n"
     ]
    }
   ],
   "source": [
    "# for param in model.parameters():\n",
    "#     print(param)\n",
    "# #     param.requires_grad = False\n",
    "# print(model.parameters())\n",
    "for (ii,para) in enumerate(list(model.parameters())[:-2]):\n",
    "    para.requires_grad=False\n",
    "\n",
    "for (ii,para) in enumerate(list(model.named_parameters())):\n",
    "    print(ii,para[0],'requires_grad:',para[1].requires_grad)"
   ]
  },
  {
   "cell_type": "code",
   "execution_count": 6,
   "metadata": {},
   "outputs": [],
   "source": [
    "# import models\n",
    "from config import DefaultConfig\n",
    "from utils.utils import Visualizer\n",
    "opt = DefaultConfig()"
   ]
  },
  {
   "cell_type": "code",
   "execution_count": 7,
   "metadata": {},
   "outputs": [],
   "source": [
    "def train(**kwargs):\n",
    "    \n",
    "    # 根据命令行参数更新配置\n",
    "    vis = Visualizer(opt.env)\n",
    "    \n",
    "    # step1: 模型\n",
    "#     model = getattr(models, opt.model)()\n",
    "#     if opt.load_model_path:\n",
    "#         model.load(opt.load_model_path)\n",
    "#     if opt.use_gpu: model.cuda()\n",
    "\n",
    "    # step2: 数据\n",
    "    train_data = UCMdata(opt.train_data_root,train=True,start = 0,end = 80)\n",
    "    val_data = UCMdata(opt.train_data_root,train=False,start = 80,end = 100)\n",
    "    train_dataloader = DataLoader(train_data,opt.batch_size,\n",
    "                        shuffle=True,\n",
    "                        num_workers=opt.num_workers)\n",
    "    val_dataloader = DataLoader(val_data,opt.batch_size,\n",
    "                        shuffle=False,\n",
    "                        num_workers=opt.num_workers)\n",
    "    \n",
    "    # step3: 目标函数和优化器\n",
    "    criterion = t.nn.CrossEntropyLoss()\n",
    "    lr = opt.lr\n",
    "    optimizer = t.optim.Adam(filter(lambda p: p.requires_grad, model.parameters()),\n",
    "                            lr = lr,\n",
    "                            weight_decay = opt.weight_decay)\n",
    "        \n",
    "    # step4: 统计指标：平滑处理之后的损失，还有混淆矩阵\n",
    "    loss_meter = meter.AverageValueMeter()\n",
    "    confusion_matrix = meter.ConfusionMeter(21)\n",
    "    previous_loss = 1e100\n",
    "\n",
    "    # 训练\n",
    "    for epoch in range(opt.max_epoch):\n",
    "        \n",
    "        loss_meter.reset()\n",
    "        confusion_matrix.reset()\n",
    "\n",
    "        for ii,(data,label) in enumerate(tqdm_notebook(train_dataloader,desc='train{}'.format(epoch))):\n",
    "\n",
    "            # 训练模型参数 \n",
    "            input = Variable(data)\n",
    "            target = Variable(label)\n",
    "            if opt.use_gpu:\n",
    "                input = input.cuda()\n",
    "                target = target.cuda()\n",
    "            optimizer.zero_grad()\n",
    "            score = model(input)\n",
    "#             print(score,target)\n",
    "            loss = criterion(score,target.long())\n",
    "            loss.backward()\n",
    "            optimizer.step()\n",
    "            \n",
    "            # 更新统计指标以及可视化\n",
    "#             print(loss)\n",
    "#             print(loss.size())\n",
    "#             print(loss.data.item())\n",
    "            \n",
    "#             print(score.data.size(),target.long().size())\n",
    "            loss_meter.add(loss.data.item())\n",
    "            \n",
    "            \n",
    "            \n",
    "#             print(score.data.shape[1])\n",
    "            confusion_matrix.add(score.data, target.data)\n",
    "\n",
    "            if ii%opt.print_freq==opt.print_freq-1:\n",
    "                vis.plot('loss', loss_meter.value()[0])\n",
    "                \n",
    "                # 如果需要的话，进入debug模式\n",
    "                if os.path.exists(opt.debug_file):\n",
    "                    import ipdb;\n",
    "                    ipdb.set_trace()\n",
    "\n",
    "#         model.save()\n",
    "        name = time.strftime('checkpoints/%m%d_%H:%M:%S.pth')\n",
    "        t.save(model,name)\n",
    "\n",
    "        # 计算验证集上的指标及可视化\n",
    "        val_cm,val_accuracy = val(model,val_dataloader,epoch)\n",
    "        vis.plot('val_accuracy',val_accuracy)\n",
    "        vis.log(\"epoch:{epoch},lr:{lr},loss:{loss},train_cm:{train_cm},val_cm:{val_cm}\"\n",
    "        .format(\n",
    "                    epoch = epoch,\n",
    "                    loss = loss_meter.value()[0],\n",
    "                    val_cm = str(val_cm.value()),\n",
    "                    train_cm=str(confusion_matrix.value()),\n",
    "                    lr=lr))\n",
    "        \n",
    "        # 如果损失不再下降，则降低学习率\n",
    "        if loss_meter.value()[0] > previous_loss:          \n",
    "            lr = lr * opt.lr_decay\n",
    "            for param_group in optimizer.param_groups:\n",
    "                param_group['lr'] = lr\n",
    "                \n",
    "        previous_loss = loss_meter.value()[0]\n",
    "        print('-------------分割线----------------')"
   ]
  },
  {
   "cell_type": "code",
   "execution_count": 8,
   "metadata": {},
   "outputs": [],
   "source": [
    "def val(model,dataloader,epoch=None):\n",
    "    '''\n",
    "    计算模型在验证集上的准确率等信息\n",
    "    '''\n",
    "    model.eval()   # 把模型设为验证模式\n",
    "    \n",
    "    confusion_matrix = meter.ConfusionMeter(21)\n",
    "    for ii, data in enumerate(tqdm_notebook(dataloader,desc='val{}'.format(epoch))):\n",
    "        input, label = data\n",
    "        val_input = Variable(input, volatile=True)\n",
    "        val_label = Variable(label.long(), volatile=True)\n",
    "        if opt.use_gpu:\n",
    "            val_input = val_input.cuda()\n",
    "            val_label = val_label.cuda()\n",
    "        score = model(val_input)\n",
    "#         print(score.data.squeeze(),label.long())\n",
    "#         print(score.data.size(),label.long().size())\n",
    "        confusion_matrix.add(score.data.squeeze(), label.long())\n",
    "\n",
    "    \n",
    "    model.train()  # 把模型恢复为训练模式\n",
    "    cm_value = confusion_matrix.value()\n",
    "#     print(cm_value)\n",
    "    temp_res = 0.0\n",
    "    for i in range(len(cm_value)):\n",
    "        temp_res = temp_res + cm_value[i][i]\n",
    "    accuracy = 100. * (temp_res) /(cm_value.sum())\n",
    "    return confusion_matrix, accuracy\n"
   ]
  },
  {
   "cell_type": "code",
   "execution_count": 9,
   "metadata": {},
   "outputs": [],
   "source": [
    "def test(**kwargs):\n",
    "    #opt.parse(kwargs)\n",
    "    \n",
    "    # 模型\n",
    "#     model = getattr(models, opt.model)().eval()\n",
    "#     if opt.load_model_path:\n",
    "#         model.load(opt.load_model_path)\n",
    "#     if opt.use_gpu: model.cuda()\n",
    "\n",
    "    # 数据\n",
    "    train_data = UCMdata(opt.test_data_root,test=True,train=False,start=80,end = 100)\n",
    "    print(len(train_data))\n",
    "#     return\n",
    "    test_dataloader = DataLoader(train_data,batch_size=opt.batch_size,shuffle=False,num_workers=opt.num_workers)\n",
    "    \n",
    "    results = []\n",
    "    for ii,(data,path) in enumerate(tqdm_notebook(test_dataloader,desc='测试')):\n",
    "        input = t.autograd.Variable(data,volatile = True)\n",
    "        if opt.use_gpu: input = input.cuda()\n",
    "        score = model(input)\n",
    "        probability = t.max(t.nn.functional.softmax(score),1)\n",
    "#         print(path,probability[1])\n",
    "        for i in range(3):\n",
    "#             print(path,probability[1])\n",
    "            if path[i].item() == probability[1][i].item():\n",
    "                results.append(1)\n",
    "            else:\n",
    "                results.append(0)\n",
    "#         batch_results = [(path_,probability_) for path_,probability_ in zip(path,probability) ]\n",
    "#         results += batch_results\n",
    "#     print(results)\n",
    "#     write_csv(results,opt.result_file)\n",
    "#     print(results)\n",
    "\n",
    "    scoreCard_array = numpy.asarray(results)\n",
    "    print('性能：',scoreCard_array.sum()/scoreCard_array.size)\n",
    "#     return results\n"
   ]
  },
  {
   "cell_type": "code",
   "execution_count": 10,
   "metadata": {},
   "outputs": [],
   "source": [
    "def help():  # 打印帮助的信息： python file.py help\n",
    "    print('''\n",
    "    usage : python {0} <function> [--args=value,]\n",
    "    <function> := train | test | help\n",
    "    example: \n",
    "            python {0} train --env='env0701' --lr=0.01\n",
    "            python {0} test --dataset='path/to/dataset/root/'\n",
    "            python {0} help\n",
    "    avaiable args:'''.format(__file__))\n",
    "\n",
    "    from inspect import getsource\n",
    "    source = (getsource(opt.__class__))\n",
    "    print(source)\n"
   ]
  },
  {
   "cell_type": "code",
   "execution_count": 11,
   "metadata": {},
   "outputs": [
    {
     "name": "stderr",
     "output_type": "stream",
     "text": [
      "WARNING:root:Setting up a new session...\n"
     ]
    },
    {
     "data": {
      "application/vnd.jupyter.widget-view+json": {
       "model_id": "6deba7c94998478ea2013c8ade2820f0",
       "version_major": 2,
       "version_minor": 0
      },
      "text/plain": [
       "HBox(children=(IntProgress(value=0, description='train0', max=560, style=ProgressStyle(description_width='init…"
      ]
     },
     "metadata": {},
     "output_type": "display_data"
    },
    {
     "name": "stdout",
     "output_type": "stream",
     "text": [
      "\n"
     ]
    },
    {
     "data": {
      "application/vnd.jupyter.widget-view+json": {
       "model_id": "840b1050a14f4c69adedf39e2643c54c",
       "version_major": 2,
       "version_minor": 0
      },
      "text/plain": [
       "HBox(children=(IntProgress(value=0, description='val0', max=140, style=ProgressStyle(description_width='initia…"
      ]
     },
     "metadata": {},
     "output_type": "display_data"
    },
    {
     "name": "stderr",
     "output_type": "stream",
     "text": [
      "/Users/QwQ/anaconda3/envs/pytorch/lib/python3.7/site-packages/ipykernel_launcher.py:10: UserWarning: volatile was removed and now has no effect. Use `with torch.no_grad():` instead.\n",
      "  # Remove the CWD from sys.path while we load stuff.\n",
      "/Users/QwQ/anaconda3/envs/pytorch/lib/python3.7/site-packages/ipykernel_launcher.py:11: UserWarning: volatile was removed and now has no effect. Use `with torch.no_grad():` instead.\n",
      "  # This is added back by InteractiveShellApp.init_path()\n"
     ]
    },
    {
     "name": "stdout",
     "output_type": "stream",
     "text": [
      "\n",
      "-------------分割线----------------\n"
     ]
    },
    {
     "data": {
      "application/vnd.jupyter.widget-view+json": {
       "model_id": "d284e65d18f547dbb964bf18dbda20bc",
       "version_major": 2,
       "version_minor": 0
      },
      "text/plain": [
       "HBox(children=(IntProgress(value=0, description='train1', max=560, style=ProgressStyle(description_width='init…"
      ]
     },
     "metadata": {},
     "output_type": "display_data"
    },
    {
     "name": "stdout",
     "output_type": "stream",
     "text": [
      "\n"
     ]
    },
    {
     "data": {
      "application/vnd.jupyter.widget-view+json": {
       "model_id": "4c7e868f2e0b438f9f42ff55efca4d8d",
       "version_major": 2,
       "version_minor": 0
      },
      "text/plain": [
       "HBox(children=(IntProgress(value=0, description='val1', max=140, style=ProgressStyle(description_width='initia…"
      ]
     },
     "metadata": {},
     "output_type": "display_data"
    },
    {
     "name": "stdout",
     "output_type": "stream",
     "text": [
      "\n",
      "-------------分割线----------------\n"
     ]
    },
    {
     "data": {
      "application/vnd.jupyter.widget-view+json": {
       "model_id": "d2a9d16dbea9474b970f33961211a5d5",
       "version_major": 2,
       "version_minor": 0
      },
      "text/plain": [
       "HBox(children=(IntProgress(value=0, description='train2', max=560, style=ProgressStyle(description_width='init…"
      ]
     },
     "metadata": {},
     "output_type": "display_data"
    },
    {
     "name": "stdout",
     "output_type": "stream",
     "text": [
      "\n"
     ]
    },
    {
     "data": {
      "application/vnd.jupyter.widget-view+json": {
       "model_id": "aa26738775eb4a0bb4e756ae4283cdb7",
       "version_major": 2,
       "version_minor": 0
      },
      "text/plain": [
       "HBox(children=(IntProgress(value=0, description='val2', max=140, style=ProgressStyle(description_width='initia…"
      ]
     },
     "metadata": {},
     "output_type": "display_data"
    },
    {
     "name": "stdout",
     "output_type": "stream",
     "text": [
      "\n",
      "-------------分割线----------------\n"
     ]
    },
    {
     "data": {
      "application/vnd.jupyter.widget-view+json": {
       "model_id": "c9a7ee3bf8b74b6e9fd74a80361d2ca5",
       "version_major": 2,
       "version_minor": 0
      },
      "text/plain": [
       "HBox(children=(IntProgress(value=0, description='train3', max=560, style=ProgressStyle(description_width='init…"
      ]
     },
     "metadata": {},
     "output_type": "display_data"
    },
    {
     "name": "stdout",
     "output_type": "stream",
     "text": [
      "\n"
     ]
    },
    {
     "data": {
      "application/vnd.jupyter.widget-view+json": {
       "model_id": "66fbe81ce414446fa9fd8ac7d9933eb1",
       "version_major": 2,
       "version_minor": 0
      },
      "text/plain": [
       "HBox(children=(IntProgress(value=0, description='val3', max=140, style=ProgressStyle(description_width='initia…"
      ]
     },
     "metadata": {},
     "output_type": "display_data"
    },
    {
     "name": "stdout",
     "output_type": "stream",
     "text": [
      "\n",
      "-------------分割线----------------\n"
     ]
    },
    {
     "data": {
      "application/vnd.jupyter.widget-view+json": {
       "model_id": "5ed987f156c541c99bfa9ea711ca1c24",
       "version_major": 2,
       "version_minor": 0
      },
      "text/plain": [
       "HBox(children=(IntProgress(value=0, description='train4', max=560, style=ProgressStyle(description_width='init…"
      ]
     },
     "metadata": {},
     "output_type": "display_data"
    },
    {
     "name": "stdout",
     "output_type": "stream",
     "text": [
      "\n"
     ]
    },
    {
     "data": {
      "application/vnd.jupyter.widget-view+json": {
       "model_id": "628e7df8fc9349e6b2db41be4f4d2fe9",
       "version_major": 2,
       "version_minor": 0
      },
      "text/plain": [
       "HBox(children=(IntProgress(value=0, description='val4', max=140, style=ProgressStyle(description_width='initia…"
      ]
     },
     "metadata": {},
     "output_type": "display_data"
    },
    {
     "name": "stdout",
     "output_type": "stream",
     "text": [
      "\n",
      "-------------分割线----------------\n"
     ]
    },
    {
     "data": {
      "application/vnd.jupyter.widget-view+json": {
       "model_id": "8a2049d8757a42dd97564c38451a8d50",
       "version_major": 2,
       "version_minor": 0
      },
      "text/plain": [
       "HBox(children=(IntProgress(value=0, description='train5', max=560, style=ProgressStyle(description_width='init…"
      ]
     },
     "metadata": {},
     "output_type": "display_data"
    },
    {
     "name": "stdout",
     "output_type": "stream",
     "text": [
      "\n"
     ]
    },
    {
     "data": {
      "application/vnd.jupyter.widget-view+json": {
       "model_id": "d33c2167be41433782af875329b476d7",
       "version_major": 2,
       "version_minor": 0
      },
      "text/plain": [
       "HBox(children=(IntProgress(value=0, description='val5', max=140, style=ProgressStyle(description_width='initia…"
      ]
     },
     "metadata": {},
     "output_type": "display_data"
    },
    {
     "name": "stdout",
     "output_type": "stream",
     "text": [
      "\n",
      "-------------分割线----------------\n"
     ]
    },
    {
     "data": {
      "application/vnd.jupyter.widget-view+json": {
       "model_id": "e3bd7d65709d42a79c9933ffaab43e53",
       "version_major": 2,
       "version_minor": 0
      },
      "text/plain": [
       "HBox(children=(IntProgress(value=0, description='train6', max=560, style=ProgressStyle(description_width='init…"
      ]
     },
     "metadata": {},
     "output_type": "display_data"
    },
    {
     "name": "stdout",
     "output_type": "stream",
     "text": [
      "\n"
     ]
    },
    {
     "data": {
      "application/vnd.jupyter.widget-view+json": {
       "model_id": "e8b43f4f8fd145d7a09e2278501ae9f9",
       "version_major": 2,
       "version_minor": 0
      },
      "text/plain": [
       "HBox(children=(IntProgress(value=0, description='val6', max=140, style=ProgressStyle(description_width='initia…"
      ]
     },
     "metadata": {},
     "output_type": "display_data"
    },
    {
     "name": "stdout",
     "output_type": "stream",
     "text": [
      "\n",
      "-------------分割线----------------\n"
     ]
    },
    {
     "data": {
      "application/vnd.jupyter.widget-view+json": {
       "model_id": "0f0ad9692d3245ff85a1fcb9886e4d49",
       "version_major": 2,
       "version_minor": 0
      },
      "text/plain": [
       "HBox(children=(IntProgress(value=0, description='train7', max=560, style=ProgressStyle(description_width='init…"
      ]
     },
     "metadata": {},
     "output_type": "display_data"
    },
    {
     "name": "stdout",
     "output_type": "stream",
     "text": [
      "\n"
     ]
    },
    {
     "data": {
      "application/vnd.jupyter.widget-view+json": {
       "model_id": "0e2c7d1d39fb47ba894f6555fc47b01f",
       "version_major": 2,
       "version_minor": 0
      },
      "text/plain": [
       "HBox(children=(IntProgress(value=0, description='val7', max=140, style=ProgressStyle(description_width='initia…"
      ]
     },
     "metadata": {},
     "output_type": "display_data"
    },
    {
     "name": "stdout",
     "output_type": "stream",
     "text": [
      "\n",
      "-------------分割线----------------\n"
     ]
    },
    {
     "data": {
      "application/vnd.jupyter.widget-view+json": {
       "model_id": "c0d590d26496437ca76ab33f7d066f65",
       "version_major": 2,
       "version_minor": 0
      },
      "text/plain": [
       "HBox(children=(IntProgress(value=0, description='train8', max=560, style=ProgressStyle(description_width='init…"
      ]
     },
     "metadata": {},
     "output_type": "display_data"
    },
    {
     "name": "stdout",
     "output_type": "stream",
     "text": [
      "\n"
     ]
    },
    {
     "data": {
      "application/vnd.jupyter.widget-view+json": {
       "model_id": "675d377c286740dd8e8ebd2327a31494",
       "version_major": 2,
       "version_minor": 0
      },
      "text/plain": [
       "HBox(children=(IntProgress(value=0, description='val8', max=140, style=ProgressStyle(description_width='initia…"
      ]
     },
     "metadata": {},
     "output_type": "display_data"
    },
    {
     "name": "stdout",
     "output_type": "stream",
     "text": [
      "\n",
      "-------------分割线----------------\n"
     ]
    },
    {
     "data": {
      "application/vnd.jupyter.widget-view+json": {
       "model_id": "a8735960599c4441972d104949c3c858",
       "version_major": 2,
       "version_minor": 0
      },
      "text/plain": [
       "HBox(children=(IntProgress(value=0, description='train9', max=560, style=ProgressStyle(description_width='init…"
      ]
     },
     "metadata": {},
     "output_type": "display_data"
    },
    {
     "name": "stdout",
     "output_type": "stream",
     "text": [
      "\n"
     ]
    },
    {
     "data": {
      "application/vnd.jupyter.widget-view+json": {
       "model_id": "12a8cffa1b7c410086942aac5635272f",
       "version_major": 2,
       "version_minor": 0
      },
      "text/plain": [
       "HBox(children=(IntProgress(value=0, description='val9', max=140, style=ProgressStyle(description_width='initia…"
      ]
     },
     "metadata": {},
     "output_type": "display_data"
    },
    {
     "name": "stdout",
     "output_type": "stream",
     "text": [
      "\n",
      "-------------分割线----------------\n"
     ]
    }
   ],
   "source": [
    "train()"
   ]
  },
  {
   "cell_type": "code",
   "execution_count": 12,
   "metadata": {},
   "outputs": [
    {
     "name": "stdout",
     "output_type": "stream",
     "text": [
      "420\n"
     ]
    },
    {
     "data": {
      "application/vnd.jupyter.widget-view+json": {
       "model_id": "29a74519eb484b6c9c307b4c571bd572",
       "version_major": 2,
       "version_minor": 0
      },
      "text/plain": [
       "HBox(children=(IntProgress(value=0, description='测试', max=140, style=ProgressStyle(description_width='initial'…"
      ]
     },
     "metadata": {},
     "output_type": "display_data"
    },
    {
     "name": "stderr",
     "output_type": "stream",
     "text": [
      "/Users/QwQ/anaconda3/envs/pytorch/lib/python3.7/site-packages/ipykernel_launcher.py:18: UserWarning: volatile was removed and now has no effect. Use `with torch.no_grad():` instead.\n",
      "/Users/QwQ/anaconda3/envs/pytorch/lib/python3.7/site-packages/ipykernel_launcher.py:21: UserWarning: Implicit dimension choice for softmax has been deprecated. Change the call to include dim=X as an argument.\n"
     ]
    },
    {
     "name": "stdout",
     "output_type": "stream",
     "text": [
      "\n",
      "性能： 0.780952380952381\n"
     ]
    }
   ],
   "source": [
    "test()"
   ]
  }
 ],
 "metadata": {
  "kernelspec": {
   "display_name": "Python 3",
   "language": "python",
   "name": "python3"
  },
  "language_info": {
   "codemirror_mode": {
    "name": "ipython",
    "version": 3
   },
   "file_extension": ".py",
   "mimetype": "text/x-python",
   "name": "python",
   "nbconvert_exporter": "python",
   "pygments_lexer": "ipython3",
   "version": "3.7.3"
  }
 },
 "nbformat": 4,
 "nbformat_minor": 2
}
